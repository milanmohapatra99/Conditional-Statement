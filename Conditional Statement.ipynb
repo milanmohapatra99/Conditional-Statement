{
 "cells": [
  {
   "cell_type": "code",
   "execution_count": 1,
   "id": "87b28a04",
   "metadata": {},
   "outputs": [
    {
     "name": "stdout",
     "output_type": "stream",
     "text": [
      "The Value of a is greater than 3\n"
     ]
    }
   ],
   "source": [
    "a = 45\n",
    "if (a>3):\n",
    "    print(\"The Value of a is greater than 3\")\n",
    "elif(a>7):\n",
    "    print(\"The value of a is greater than 7\")\n",
    "else:\n",
    "    print(\"The value of a is not greater than 3 or 7\")"
   ]
  },
  {
   "cell_type": "code",
   "execution_count": 2,
   "id": "853969e3",
   "metadata": {},
   "outputs": [
    {
     "name": "stdout",
     "output_type": "stream",
     "text": [
      "Enter Your Number:-5\n",
      "The value of a is not greater than 3 or 7\n",
      "Done\n"
     ]
    }
   ],
   "source": [
    "a = int(input(\"Enter Your Number:-\"))\n",
    "if (a<3):\n",
    "    print(\"The Value of a is greater than 3\")\n",
    "elif(a>7):\n",
    "    print(\"The value of a is greater than 7\")\n",
    "else:\n",
    "    print(\"The value of a is not greater than 3 or 7\")\n",
    "print(\"Done\")    "
   ]
  },
  {
   "cell_type": "code",
   "execution_count": 3,
   "id": "441c2a5d",
   "metadata": {},
   "outputs": [
    {
     "name": "stdout",
     "output_type": "stream",
     "text": [
      "The Value of a is greater than 3\n",
      "The value of a is greater than 13\n",
      "The value of a is greater than 7\n",
      "The value of a is greater than 17\n"
     ]
    }
   ],
   "source": [
    "a = 45\n",
    "if (a>3):\n",
    "    print(\"The Value of a is greater than 3\")\n",
    "if(a>13):\n",
    "    print(\"The value of a is greater than 13\")    \n",
    "if(a>7):\n",
    "    print(\"The value of a is greater than 7\")\n",
    "if(a>17):\n",
    "    print(\"The value of a is greater than 17\")    \n",
    "else:\n",
    "    print(\"The value of a is not greater than 3 or 7\")"
   ]
  },
  {
   "cell_type": "code",
   "execution_count": 4,
   "id": "ae23b189",
   "metadata": {},
   "outputs": [
    {
     "name": "stdout",
     "output_type": "stream",
     "text": [
      "Enter Your Age:-45\n",
      "Elligible \n"
     ]
    }
   ],
   "source": [
    "age=int(input(\"Enter Your Age:-\"))\n",
    "if age>18 :\n",
    "    print(\"Elligible \")\n",
    "else:\n",
    "    print(\"Not Elligible\")"
   ]
  },
  {
   "cell_type": "code",
   "execution_count": 5,
   "id": "8e5fc6bf",
   "metadata": {},
   "outputs": [
    {
     "name": "stdout",
     "output_type": "stream",
     "text": [
      "Enter Your Age:-25\n",
      "Not Elligible for work\n"
     ]
    }
   ],
   "source": [
    "age=int(input(\"Enter Your Age:-\"))\n",
    "if (age>34 and age<56) :\n",
    "    print(\"Elligible for work \")\n",
    "else:\n",
    "    print(\"Not Elligible for work\")\n",
    "    "
   ]
  },
  {
   "cell_type": "code",
   "execution_count": 6,
   "id": "36bed49a",
   "metadata": {},
   "outputs": [
    {
     "name": "stdout",
     "output_type": "stream",
     "text": [
      "Enter Your Age:-12\n",
      "Elligible for work \n"
     ]
    }
   ],
   "source": [
    "age=int(input(\"Enter Your Age:-\"))\n",
    "if (age>34 or age<56) :\n",
    "    print(\"Elligible for work \")\n",
    "else:\n",
    "    print(\"Not Elligible for work\")"
   ]
  },
  {
   "cell_type": "code",
   "execution_count": 7,
   "id": "e375c148",
   "metadata": {},
   "outputs": [
    {
     "name": "stdout",
     "output_type": "stream",
     "text": [
      "Yes\n"
     ]
    }
   ],
   "source": [
    "a = None\n",
    "if a is None:\n",
    "    print(\"Yes\")\n",
    "else:\n",
    "    print(\"No\")\n",
    "    "
   ]
  },
  {
   "cell_type": "code",
   "execution_count": 8,
   "id": "34ea10c1",
   "metadata": {},
   "outputs": [
    {
     "name": "stdout",
     "output_type": "stream",
     "text": [
      "True\n",
      "False\n"
     ]
    }
   ],
   "source": [
    "a=[45,65,9]\n",
    "print(45 in a)\n",
    "print(55 in a)"
   ]
  },
  {
   "cell_type": "code",
   "execution_count": 9,
   "id": "ba769a29",
   "metadata": {},
   "outputs": [
    {
     "name": "stdout",
     "output_type": "stream",
     "text": [
      "no and Yes\n"
     ]
    }
   ],
   "source": [
    "a=89\n",
    "if(a==7):\n",
    "    print(\"Yes\")\n",
    "elif(a>56):\n",
    "    print(\"no and Yes\")\n",
    "else:\n",
    "    print(\"It is optional\")"
   ]
  },
  {
   "cell_type": "code",
   "execution_count": 12,
   "id": "c8434d9c",
   "metadata": {},
   "outputs": [
    {
     "name": "stdout",
     "output_type": "stream",
     "text": [
      "Enter number 1: 5\n",
      "Enter number 2: 6\n",
      "Enter number 3: 8\n",
      "Enter number 4: 9\n",
      "9 is greatest\n"
     ]
    }
   ],
   "source": [
    "#w.a.p to find greatest no 4 numbers enter by user\n",
    "num1 = int(input(\"Enter number 1: \"))\n",
    "num2 = int(input(\"Enter number 2: \"))\n",
    "num3 = int(input(\"Enter number 3: \"))\n",
    "num4 = int(input(\"Enter number 4: \"))\n",
    "\n",
    "if(num1>num4):\n",
    "    f1 = num1\n",
    "else:\n",
    "    f1 = num4\n",
    "\n",
    "if(num2>num3):\n",
    "    f2 = num2\n",
    "else:\n",
    "    f2 = num3\n",
    "\n",
    "if(f1>f2):\n",
    "    print(str(f1) + \" is greatest\")\n",
    "else:\n",
    "    print(str(f2) + \" is greatest\")"
   ]
  },
  {
   "cell_type": "code",
   "execution_count": 16,
   "id": "81ee0af0",
   "metadata": {},
   "outputs": [
    {
     "name": "stdout",
     "output_type": "stream",
     "text": [
      "Enter first subject marks\n",
      "56\n",
      "Enter second subject marks\n",
      "69\n",
      "Enter third subject marks\n",
      "75\n",
      "Congatulations! You passed the exam\n"
     ]
    }
   ],
   "source": [
    "'''w.a.p to find out wheather a student is pass or fail,if it requires total 40% and atleast 35% in each subject to pass.\n",
    "Assume 3 subject and take marks as an input from the user'''\n",
    "sub1 = int(input(\"Enter first subject marks\\n\"))\n",
    "sub2 = int(input(\"Enter second subject marks\\n\"))\n",
    "sub3 = int(input(\"Enter third subject marks\\n\"))\n",
    "\n",
    "if(sub1<33 or sub2<33 or sub3<33):\n",
    "    print(\"You are fail because you have less than 33% in one of the subjects\")\n",
    "elif(sub1+sub2+sub3)/3 < 40:\n",
    "    print(\"You are fail due to total percentage less than 40\")\n",
    "else:\n",
    "    print(\"Congatulations! You passed the exam\")"
   ]
  },
  {
   "cell_type": "code",
   "execution_count": 20,
   "id": "11e810ad",
   "metadata": {},
   "outputs": [
    {
     "name": "stdout",
     "output_type": "stream",
     "text": [
      "Enter the text\n",
      "rock\n",
      "This text is not spam\n"
     ]
    }
   ],
   "source": [
    "#w.a.p to check input word is spam or not\n",
    "text = input(\"Enter the text\\n\")\n",
    "\n",
    "if(\"make a lot of money\" in text):\n",
    "    spam = True\n",
    "elif(\"prize\" in text):\n",
    "    spam = True\n",
    "elif(\"gift\" in text):\n",
    "    spam = True\n",
    "elif(\"money\" in text):\n",
    "    spam = True\n",
    "else:\n",
    "    spam = False\n",
    "\n",
    "if(spam):\n",
    "    print(\"This text is spam\")\n",
    "else:\n",
    "    print(\"This text is not spam\")"
   ]
  },
  {
   "cell_type": "code",
   "execution_count": 18,
   "id": "050b5d6a",
   "metadata": {},
   "outputs": [
    {
     "name": "stdout",
     "output_type": "stream",
     "text": [
      "Enter the name to check\n",
      "jimin\n",
      "Your name is not present in the list\n"
     ]
    }
   ],
   "source": [
    "#w.a.p to find wheather the given username is in the list or not\n",
    "names = [\"rose\", \"jisooo\", \"rohit\", \"jenni\", \"aditi\", \"abinash\"]\n",
    "name = input(\"Enter the name to check\\n\")\n",
    "\n",
    "if name in names:\n",
    "    print(\"Your name is present in the list\")\n",
    "else:\n",
    "    print(\"Your name is not present in the list\")"
   ]
  },
  {
   "cell_type": "code",
   "execution_count": 19,
   "id": "5bbbdb92",
   "metadata": {},
   "outputs": [
    {
     "name": "stdout",
     "output_type": "stream",
     "text": [
      "Enter Your Marks\n",
      "\t56\n",
      "Your grade is D\n"
     ]
    }
   ],
   "source": [
    "#w.a.p to check the student grade\n",
    "marks = int(input(\"Enter Your Marks\\n\\t\"))\n",
    "\n",
    "if marks>=90:\n",
    "    grade = \"Ex\"\n",
    "elif marks>=80:\n",
    "    grade = \"A\"\n",
    "elif marks>=70:\n",
    "    grade = \"B\"\n",
    "elif marks>=60:\n",
    "    grade = \"C\"\n",
    "elif marks>=50:\n",
    "    grade = \"D\" \n",
    "else:\n",
    "    grade = \"F\"\n",
    "\n",
    "print(\"Your grade is \" + grade)"
   ]
  },
  {
   "cell_type": "code",
   "execution_count": 22,
   "id": "aff3ee36",
   "metadata": {},
   "outputs": [
    {
     "name": "stdout",
     "output_type": "stream",
     "text": [
      "Enter Your Name:-milan\n",
      "less than 10 character\n"
     ]
    }
   ],
   "source": [
    "#w.a.p to check wheather a given user name contains lessthan 10 characters or not\n",
    "char = input(\"Enter Your Name:-\")\n",
    "if (len(char)<10 ):\n",
    "    print(\"less than 10 character\")\n",
    "else:\n",
    "    print(\"higher than 10 character\")"
   ]
  },
  {
   "cell_type": "code",
   "execution_count": null,
   "id": "bc346672",
   "metadata": {},
   "outputs": [],
   "source": []
  }
 ],
 "metadata": {
  "kernelspec": {
   "display_name": "Python 3 (ipykernel)",
   "language": "python",
   "name": "python3"
  },
  "language_info": {
   "codemirror_mode": {
    "name": "ipython",
    "version": 3
   },
   "file_extension": ".py",
   "mimetype": "text/x-python",
   "name": "python",
   "nbconvert_exporter": "python",
   "pygments_lexer": "ipython3",
   "version": "3.9.7"
  }
 },
 "nbformat": 4,
 "nbformat_minor": 5
}
